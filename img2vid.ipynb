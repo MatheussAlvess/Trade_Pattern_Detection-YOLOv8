{
 "cells": [
  {
   "cell_type": "code",
   "execution_count": 6,
   "metadata": {},
   "outputs": [],
   "source": [
    "import warnings \n",
    "warnings.filterwarnings('ignore')\n",
    "\n",
    "import os\n",
    "import glob\n",
    "import yfinance as yf\n",
    "import matplotlib.pyplot as plt \n",
    "\n",
    "from tqdm import tqdm\n",
    "import cv2"
   ]
  },
  {
   "cell_type": "code",
   "execution_count": 19,
   "metadata": {},
   "outputs": [],
   "source": [
    "try:\n",
    "    os.mkdir(f'imgs4vid/')\n",
    "except:\n",
    "    print('Fold already exists')"
   ]
  },
  {
   "cell_type": "code",
   "execution_count": 18,
   "metadata": {},
   "outputs": [
    {
     "name": "stderr",
     "output_type": "stream",
     "text": [
      "[*********************100%%**********************]  1 of 1 completed\n"
     ]
    }
   ],
   "source": [
    "data = yf.download(\"ITUB4.SA\",start='2023-10-01').reset_index()"
   ]
  },
  {
   "cell_type": "code",
   "execution_count": 20,
   "metadata": {},
   "outputs": [
    {
     "name": "stderr",
     "output_type": "stream",
     "text": [
      "  0%|          | 0/99 [00:00<?, ?it/s]"
     ]
    },
    {
     "name": "stderr",
     "output_type": "stream",
     "text": [
      "100%|██████████| 99/99 [00:23<00:00,  4.15it/s]\n"
     ]
    }
   ],
   "source": [
    "timestep = 30\n",
    "count=1\n",
    "for window in tqdm(range(data.shape[0])):\n",
    "    aux = data[window:window+timestep]\n",
    "    if aux.shape[0] == timestep:\n",
    "        stock_prices = aux.copy()\n",
    "        stock_prices.columns = [col.lower() for col in stock_prices.columns]\n",
    "\n",
    "        fig = plt.figure()\n",
    "\n",
    "        up = stock_prices[stock_prices.close >= stock_prices.open]\n",
    "        down = stock_prices[stock_prices.close < stock_prices.open]\n",
    "        col1 = 'lightgreen'\n",
    "        col2 = 'darkred'\n",
    "        \n",
    "        width = .6\n",
    "        width2 = .09\n",
    "\n",
    "        plt.bar(up.index, up.close-up.open, width, bottom=up.open, color=col1)\n",
    "        plt.bar(up.index, up.high-up.close, width2, bottom=up.close, color=col1)\n",
    "        plt.bar(up.index, up.low-up.open, width2, bottom=up.open, color=col1)\n",
    "\n",
    "        plt.bar(down.index, down.close-down.open, width, bottom=down.open, color=col2)\n",
    "        plt.bar(down.index, down.high-down.open, width2, bottom=down.open, color=col2)\n",
    "        plt.bar(down.index, down.low-down.close, width2, bottom=down.close, color=col2)\n",
    "        \n",
    "        plt.axis('off')\n",
    "        plt.savefig(f'imgs4vid/image{count}.jpg')\n",
    "        # plt.show()\n",
    "        plt.close()\n",
    "        count+=1"
   ]
  },
  {
   "cell_type": "code",
   "execution_count": 39,
   "metadata": {},
   "outputs": [],
   "source": [
    "img_list = []\n",
    "for ind in range(len(glob.glob('imgs4vid/*'))):\n",
    "    img_list.append(f'image{ind+1}.jpg')"
   ]
  },
  {
   "cell_type": "code",
   "execution_count": 22,
   "metadata": {},
   "outputs": [],
   "source": [
    "def create_video_from_images(image_folder, video_name, fps):\n",
    "    images = img_list\n",
    "    frame = cv2.imread(os.path.join(image_folder, images[0]))\n",
    "    height, width, layers = frame.shape\n",
    "\n",
    "    video = cv2.VideoWriter(video_name, cv2.VideoWriter_fourcc(*'mp4v'), fps, (width,height))\n",
    "\n",
    "    for image in images:\n",
    "        video.write(cv2.imread(os.path.join(image_folder, image)))\n",
    "\n",
    "    cv2.destroyAllWindows()\n",
    "    video.release()\n",
    "\n",
    "# Specify the folder containing images, name for the output video, and frames per second\n",
    "image_folder = 'imgs4vid'\n",
    "video_name = 'itub_candles.mp4'\n",
    "fps = 2\n",
    "\n",
    "create_video_from_images(image_folder, video_name, fps)"
   ]
  }
 ],
 "metadata": {
  "kernelspec": {
   "display_name": "projects-env",
   "language": "python",
   "name": "python3"
  },
  "language_info": {
   "codemirror_mode": {
    "name": "ipython",
    "version": 3
   },
   "file_extension": ".py",
   "mimetype": "text/x-python",
   "name": "python",
   "nbconvert_exporter": "python",
   "pygments_lexer": "ipython3",
   "version": "3.10.0"
  }
 },
 "nbformat": 4,
 "nbformat_minor": 2
}
